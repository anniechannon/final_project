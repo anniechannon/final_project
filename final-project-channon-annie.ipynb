{
 "cells": [
  {
   "cell_type": "markdown",
   "metadata": {},
   "source": [
    "# Get and read in data\n",
    "\n",
    "data source:  https://cneos.jpl.nasa.gov/ca/ (data saved April 22, 2021)\n",
    "1. set filters for all data\n",
    "2. download as CSV\n",
    "3. Import libraries\n",
    "4. read in csv file and name dataframe\n",
    "5. confirm shape "
   ]
  },
  {
   "cell_type": "code",
   "execution_count": 1,
   "metadata": {},
   "outputs": [],
   "source": [
    "# step 3: import libraries\n",
    "\n",
    "import numpy as np\n",
    "import pandas as pd\n",
    "import matplotlib.pyplot as plt\n",
    "import requests\n",
    "import json"
   ]
  },
  {
   "cell_type": "code",
   "execution_count": 2,
   "metadata": {},
   "outputs": [
    {
     "data": {
      "text/html": [
       "<div>\n",
       "<style scoped>\n",
       "    .dataframe tbody tr th:only-of-type {\n",
       "        vertical-align: middle;\n",
       "    }\n",
       "\n",
       "    .dataframe tbody tr th {\n",
       "        vertical-align: top;\n",
       "    }\n",
       "\n",
       "    .dataframe thead th {\n",
       "        text-align: right;\n",
       "    }\n",
       "</style>\n",
       "<table border=\"1\" class=\"dataframe\">\n",
       "  <thead>\n",
       "    <tr style=\"text-align: right;\">\n",
       "      <th></th>\n",
       "      <th>Object</th>\n",
       "      <th>Close-Approach (CA) Date</th>\n",
       "      <th>CA Distance Nominal (LD | au)</th>\n",
       "      <th>CA Distance Minimum (LD | au)</th>\n",
       "      <th>V relative (km/s)</th>\n",
       "      <th>V infinity (km/s)</th>\n",
       "      <th>H (mag)</th>\n",
       "      <th>Diameter</th>\n",
       "      <th>Unnamed: 8</th>\n",
       "    </tr>\n",
       "  </thead>\n",
       "  <tbody>\n",
       "    <tr>\n",
       "      <th>0</th>\n",
       "      <td>509352 (2007 AG)</td>\n",
       "      <td>1900-Jan-04 22:25 ±    00:02</td>\n",
       "      <td>3.75 | 0.00963</td>\n",
       "      <td>3.75 | 0.00962</td>\n",
       "      <td>8.69</td>\n",
       "      <td>8.65</td>\n",
       "      <td>20.1</td>\n",
       "      <td>250 m -  570 m</td>\n",
       "      <td>a0509352</td>\n",
       "    </tr>\n",
       "    <tr>\n",
       "      <th>1</th>\n",
       "      <td>(2014 SC324)</td>\n",
       "      <td>1900-Jan-11 01:07 ±    00:18</td>\n",
       "      <td>15.55 | 0.03997</td>\n",
       "      <td>15.53 | 0.03991</td>\n",
       "      <td>10.65</td>\n",
       "      <td>10.65</td>\n",
       "      <td>24.3</td>\n",
       "      <td>37 m -   82 m</td>\n",
       "      <td>bK14SW4C</td>\n",
       "    </tr>\n",
       "    <tr>\n",
       "      <th>2</th>\n",
       "      <td>(2012 UK171)</td>\n",
       "      <td>1900-Jan-12 23:07 ±    00:13</td>\n",
       "      <td>19.39 | 0.04982</td>\n",
       "      <td>19.26 | 0.04950</td>\n",
       "      <td>7.16</td>\n",
       "      <td>7.15</td>\n",
       "      <td>24.3</td>\n",
       "      <td>37 m -   82 m</td>\n",
       "      <td>bK12UH1K</td>\n",
       "    </tr>\n",
       "    <tr>\n",
       "      <th>3</th>\n",
       "      <td>4660 Nereus (1982 DB)</td>\n",
       "      <td>1900-Jan-29 18:33 ±    00:14</td>\n",
       "      <td>8.09 | 0.02078</td>\n",
       "      <td>8.08 | 0.02076</td>\n",
       "      <td>5.55</td>\n",
       "      <td>5.52</td>\n",
       "      <td>18.3</td>\n",
       "      <td>0.33 km</td>\n",
       "      <td>a0004660</td>\n",
       "    </tr>\n",
       "    <tr>\n",
       "      <th>4</th>\n",
       "      <td>(2015 RW83)</td>\n",
       "      <td>1900-Feb-04 03:50 ±    14:49</td>\n",
       "      <td>12.89 | 0.03312</td>\n",
       "      <td>12.68 | 0.03258</td>\n",
       "      <td>3.14</td>\n",
       "      <td>3.12</td>\n",
       "      <td>24.1</td>\n",
       "      <td>40 m -   90 m</td>\n",
       "      <td>bK15R83W</td>\n",
       "    </tr>\n",
       "  </tbody>\n",
       "</table>\n",
       "</div>"
      ],
      "text/plain": [
       "                  Object      Close-Approach (CA) Date  \\\n",
       "0       509352 (2007 AG)  1900-Jan-04 22:25 ±    00:02   \n",
       "1           (2014 SC324)  1900-Jan-11 01:07 ±    00:18   \n",
       "2           (2012 UK171)  1900-Jan-12 23:07 ±    00:13   \n",
       "3  4660 Nereus (1982 DB)  1900-Jan-29 18:33 ±    00:14   \n",
       "4            (2015 RW83)  1900-Feb-04 03:50 ±    14:49   \n",
       "\n",
       "  CA Distance Nominal (LD | au) CA Distance Minimum (LD | au)  \\\n",
       "0                3.75 | 0.00963                3.75 | 0.00962   \n",
       "1               15.55 | 0.03997               15.53 | 0.03991   \n",
       "2               19.39 | 0.04982               19.26 | 0.04950   \n",
       "3                8.09 | 0.02078                8.08 | 0.02076   \n",
       "4               12.89 | 0.03312               12.68 | 0.03258   \n",
       "\n",
       "   V relative (km/s)  V infinity (km/s)  H (mag)        Diameter Unnamed: 8  \n",
       "0               8.69               8.65     20.1  250 m -  570 m   a0509352  \n",
       "1              10.65              10.65     24.3   37 m -   82 m   bK14SW4C  \n",
       "2               7.16               7.15     24.3   37 m -   82 m   bK12UH1K  \n",
       "3               5.55               5.52     18.3         0.33 km   a0004660  \n",
       "4               3.14               3.12     24.1   40 m -   90 m   bK15R83W  "
      ]
     },
     "execution_count": 2,
     "metadata": {},
     "output_type": "execute_result"
    }
   ],
   "source": [
    "# step 4: read in data from csv\n",
    "\n",
    "close_approach = pd.read_csv('data/cneos_closeapproach_data.csv')\n",
    "close_approach.head()"
   ]
  },
  {
   "cell_type": "code",
   "execution_count": 3,
   "metadata": {},
   "outputs": [
    {
     "data": {
      "text/plain": [
       "(28352, 9)"
      ]
     },
     "execution_count": 3,
     "metadata": {},
     "output_type": "execute_result"
    }
   ],
   "source": [
    "#step 5: confrim shape (row, columns)\n",
    "close_approach.shape"
   ]
  },
  {
   "cell_type": "markdown",
   "metadata": {},
   "source": [
    "# Clean & organize data\n",
    "\n",
    "Goal is to remove extra columns and convert columns with multiple data types into consistant columns that can be used in analysis.\n",
    "\n",
    "1. drop unnessary column \n",
    "2. remove time & +- from date column (decreases accuracy but fine for my purposes)\n",
    "3. seperate the distance columns so there are is one set in LD, one in au\n",
    "4. confirm that the new columns were created\n",
    "5. remove the old distance columns and those in au, just keep LD for distance(LD is the distance from earth to the moon, I picked this as it may be easier to relate to)\n",
    "6. add a boolean column  to capture whether the diameter is measured in meters or kilometers\n",
    "7. remove letters from Diameter column\n",
    "8. split diameter into low and high columns\n",
    "9. confirm the new columns are added\n",
    "10. convert and None values in diameter high into 0.  (Several entries only had one value and these are captured in diameter low)\n",
    "11.  drop all rows remaining with null values (22 out of 28k - not ideal but small enough that I feel comfortable with it)\n",
    "12.  remove extra characters from diameter low and diameter high columns \n",
    "13.  trim diamter high and diameter low columns (Some loss of accuracy, I am sure there is a better way to address the extra decimal points but this worked to get the column data to be the same.)\n",
    "14. case column data for Nonimal Distance LD, diameter low and diameter high as floats to be able to capture mean and for ease of exploration later.\n",
    "15. add a column to calculate the mean of the diameter, if diameter high is 0, use diameter low\n",
    "16. reate a new column, use column from step 6 to determine if the distance is in kilometers, if so multiply by 1000 so all values are meters\n",
    "17. drop unnecessary columns\n",
    "18. split date column into year, month and day for easy grouping\n",
    "19. confirm column names and format"
   ]
  },
  {
   "cell_type": "code",
   "execution_count": 4,
   "metadata": {},
   "outputs": [],
   "source": [
    "# step 1: remove unnamed 8 column\n",
    "close_approach.drop('Unnamed: 8', axis=1, inplace=True)"
   ]
  },
  {
   "cell_type": "code",
   "execution_count": 5,
   "metadata": {},
   "outputs": [
    {
     "data": {
      "text/html": [
       "<div>\n",
       "<style scoped>\n",
       "    .dataframe tbody tr th:only-of-type {\n",
       "        vertical-align: middle;\n",
       "    }\n",
       "\n",
       "    .dataframe tbody tr th {\n",
       "        vertical-align: top;\n",
       "    }\n",
       "\n",
       "    .dataframe thead th {\n",
       "        text-align: right;\n",
       "    }\n",
       "</style>\n",
       "<table border=\"1\" class=\"dataframe\">\n",
       "  <thead>\n",
       "    <tr style=\"text-align: right;\">\n",
       "      <th></th>\n",
       "      <th>Object</th>\n",
       "      <th>Close-Approach (CA) Date</th>\n",
       "      <th>CA Distance Nominal (LD | au)</th>\n",
       "      <th>CA Distance Minimum (LD | au)</th>\n",
       "      <th>V relative (km/s)</th>\n",
       "      <th>V infinity (km/s)</th>\n",
       "      <th>H (mag)</th>\n",
       "      <th>Diameter</th>\n",
       "    </tr>\n",
       "  </thead>\n",
       "  <tbody>\n",
       "    <tr>\n",
       "      <th>0</th>\n",
       "      <td>509352 (2007 AG)</td>\n",
       "      <td>1900-Jan-04</td>\n",
       "      <td>3.75 | 0.00963</td>\n",
       "      <td>3.75 | 0.00962</td>\n",
       "      <td>8.69</td>\n",
       "      <td>8.65</td>\n",
       "      <td>20.1</td>\n",
       "      <td>250 m -  570 m</td>\n",
       "    </tr>\n",
       "    <tr>\n",
       "      <th>1</th>\n",
       "      <td>(2014 SC324)</td>\n",
       "      <td>1900-Jan-11</td>\n",
       "      <td>15.55 | 0.03997</td>\n",
       "      <td>15.53 | 0.03991</td>\n",
       "      <td>10.65</td>\n",
       "      <td>10.65</td>\n",
       "      <td>24.3</td>\n",
       "      <td>37 m -   82 m</td>\n",
       "    </tr>\n",
       "    <tr>\n",
       "      <th>2</th>\n",
       "      <td>(2012 UK171)</td>\n",
       "      <td>1900-Jan-12</td>\n",
       "      <td>19.39 | 0.04982</td>\n",
       "      <td>19.26 | 0.04950</td>\n",
       "      <td>7.16</td>\n",
       "      <td>7.15</td>\n",
       "      <td>24.3</td>\n",
       "      <td>37 m -   82 m</td>\n",
       "    </tr>\n",
       "    <tr>\n",
       "      <th>3</th>\n",
       "      <td>4660 Nereus (1982 DB)</td>\n",
       "      <td>1900-Jan-29</td>\n",
       "      <td>8.09 | 0.02078</td>\n",
       "      <td>8.08 | 0.02076</td>\n",
       "      <td>5.55</td>\n",
       "      <td>5.52</td>\n",
       "      <td>18.3</td>\n",
       "      <td>0.33 km</td>\n",
       "    </tr>\n",
       "    <tr>\n",
       "      <th>4</th>\n",
       "      <td>(2015 RW83)</td>\n",
       "      <td>1900-Feb-04</td>\n",
       "      <td>12.89 | 0.03312</td>\n",
       "      <td>12.68 | 0.03258</td>\n",
       "      <td>3.14</td>\n",
       "      <td>3.12</td>\n",
       "      <td>24.1</td>\n",
       "      <td>40 m -   90 m</td>\n",
       "    </tr>\n",
       "  </tbody>\n",
       "</table>\n",
       "</div>"
      ],
      "text/plain": [
       "                  Object Close-Approach (CA) Date  \\\n",
       "0       509352 (2007 AG)              1900-Jan-04   \n",
       "1           (2014 SC324)              1900-Jan-11   \n",
       "2           (2012 UK171)              1900-Jan-12   \n",
       "3  4660 Nereus (1982 DB)              1900-Jan-29   \n",
       "4            (2015 RW83)              1900-Feb-04   \n",
       "\n",
       "  CA Distance Nominal (LD | au) CA Distance Minimum (LD | au)  \\\n",
       "0                3.75 | 0.00963                3.75 | 0.00962   \n",
       "1               15.55 | 0.03997               15.53 | 0.03991   \n",
       "2               19.39 | 0.04982               19.26 | 0.04950   \n",
       "3                8.09 | 0.02078                8.08 | 0.02076   \n",
       "4               12.89 | 0.03312               12.68 | 0.03258   \n",
       "\n",
       "   V relative (km/s)  V infinity (km/s)  H (mag)        Diameter  \n",
       "0               8.69               8.65     20.1  250 m -  570 m  \n",
       "1              10.65              10.65     24.3   37 m -   82 m  \n",
       "2               7.16               7.15     24.3   37 m -   82 m  \n",
       "3               5.55               5.52     18.3         0.33 km  \n",
       "4               3.14               3.12     24.1   40 m -   90 m  "
      ]
     },
     "execution_count": 5,
     "metadata": {},
     "output_type": "execute_result"
    }
   ],
   "source": [
    "#step 2: clean date column\n",
    "close_approach['Close-Approach (CA) Date'] = close_approach['Close-Approach (CA) Date'].str[:11]\n",
    "close_approach.head()"
   ]
  },
  {
   "cell_type": "code",
   "execution_count": 6,
   "metadata": {},
   "outputs": [],
   "source": [
    "# step 3: seperate distance colums\n",
    "close_approach[['Nominal Distance LD', 'Nominal Distance au']]=close_approach['CA Distance Nominal (LD | au)'].str.split('|', expand = True)\n",
    "close_approach[['Minimum Distance LD', 'Minimum Distance au']]=close_approach['CA Distance Minimum (LD | au)'].str.split('|', expand = True)"
   ]
  },
  {
   "cell_type": "code",
   "execution_count": 7,
   "metadata": {},
   "outputs": [
    {
     "data": {
      "text/html": [
       "<div>\n",
       "<style scoped>\n",
       "    .dataframe tbody tr th:only-of-type {\n",
       "        vertical-align: middle;\n",
       "    }\n",
       "\n",
       "    .dataframe tbody tr th {\n",
       "        vertical-align: top;\n",
       "    }\n",
       "\n",
       "    .dataframe thead th {\n",
       "        text-align: right;\n",
       "    }\n",
       "</style>\n",
       "<table border=\"1\" class=\"dataframe\">\n",
       "  <thead>\n",
       "    <tr style=\"text-align: right;\">\n",
       "      <th></th>\n",
       "      <th>Object</th>\n",
       "      <th>Close-Approach (CA) Date</th>\n",
       "      <th>CA Distance Nominal (LD | au)</th>\n",
       "      <th>CA Distance Minimum (LD | au)</th>\n",
       "      <th>V relative (km/s)</th>\n",
       "      <th>V infinity (km/s)</th>\n",
       "      <th>H (mag)</th>\n",
       "      <th>Diameter</th>\n",
       "      <th>Nominal Distance LD</th>\n",
       "      <th>Nominal Distance au</th>\n",
       "      <th>Minimum Distance LD</th>\n",
       "      <th>Minimum Distance au</th>\n",
       "    </tr>\n",
       "  </thead>\n",
       "  <tbody>\n",
       "    <tr>\n",
       "      <th>0</th>\n",
       "      <td>509352 (2007 AG)</td>\n",
       "      <td>1900-Jan-04</td>\n",
       "      <td>3.75 | 0.00963</td>\n",
       "      <td>3.75 | 0.00962</td>\n",
       "      <td>8.69</td>\n",
       "      <td>8.65</td>\n",
       "      <td>20.1</td>\n",
       "      <td>250 m -  570 m</td>\n",
       "      <td>3.75</td>\n",
       "      <td>0.00963</td>\n",
       "      <td>3.75</td>\n",
       "      <td>0.00962</td>\n",
       "    </tr>\n",
       "    <tr>\n",
       "      <th>1</th>\n",
       "      <td>(2014 SC324)</td>\n",
       "      <td>1900-Jan-11</td>\n",
       "      <td>15.55 | 0.03997</td>\n",
       "      <td>15.53 | 0.03991</td>\n",
       "      <td>10.65</td>\n",
       "      <td>10.65</td>\n",
       "      <td>24.3</td>\n",
       "      <td>37 m -   82 m</td>\n",
       "      <td>15.55</td>\n",
       "      <td>0.03997</td>\n",
       "      <td>15.53</td>\n",
       "      <td>0.03991</td>\n",
       "    </tr>\n",
       "    <tr>\n",
       "      <th>2</th>\n",
       "      <td>(2012 UK171)</td>\n",
       "      <td>1900-Jan-12</td>\n",
       "      <td>19.39 | 0.04982</td>\n",
       "      <td>19.26 | 0.04950</td>\n",
       "      <td>7.16</td>\n",
       "      <td>7.15</td>\n",
       "      <td>24.3</td>\n",
       "      <td>37 m -   82 m</td>\n",
       "      <td>19.39</td>\n",
       "      <td>0.04982</td>\n",
       "      <td>19.26</td>\n",
       "      <td>0.04950</td>\n",
       "    </tr>\n",
       "    <tr>\n",
       "      <th>3</th>\n",
       "      <td>4660 Nereus (1982 DB)</td>\n",
       "      <td>1900-Jan-29</td>\n",
       "      <td>8.09 | 0.02078</td>\n",
       "      <td>8.08 | 0.02076</td>\n",
       "      <td>5.55</td>\n",
       "      <td>5.52</td>\n",
       "      <td>18.3</td>\n",
       "      <td>0.33 km</td>\n",
       "      <td>8.09</td>\n",
       "      <td>0.02078</td>\n",
       "      <td>8.08</td>\n",
       "      <td>0.02076</td>\n",
       "    </tr>\n",
       "    <tr>\n",
       "      <th>4</th>\n",
       "      <td>(2015 RW83)</td>\n",
       "      <td>1900-Feb-04</td>\n",
       "      <td>12.89 | 0.03312</td>\n",
       "      <td>12.68 | 0.03258</td>\n",
       "      <td>3.14</td>\n",
       "      <td>3.12</td>\n",
       "      <td>24.1</td>\n",
       "      <td>40 m -   90 m</td>\n",
       "      <td>12.89</td>\n",
       "      <td>0.03312</td>\n",
       "      <td>12.68</td>\n",
       "      <td>0.03258</td>\n",
       "    </tr>\n",
       "  </tbody>\n",
       "</table>\n",
       "</div>"
      ],
      "text/plain": [
       "                  Object Close-Approach (CA) Date  \\\n",
       "0       509352 (2007 AG)              1900-Jan-04   \n",
       "1           (2014 SC324)              1900-Jan-11   \n",
       "2           (2012 UK171)              1900-Jan-12   \n",
       "3  4660 Nereus (1982 DB)              1900-Jan-29   \n",
       "4            (2015 RW83)              1900-Feb-04   \n",
       "\n",
       "  CA Distance Nominal (LD | au) CA Distance Minimum (LD | au)  \\\n",
       "0                3.75 | 0.00963                3.75 | 0.00962   \n",
       "1               15.55 | 0.03997               15.53 | 0.03991   \n",
       "2               19.39 | 0.04982               19.26 | 0.04950   \n",
       "3                8.09 | 0.02078                8.08 | 0.02076   \n",
       "4               12.89 | 0.03312               12.68 | 0.03258   \n",
       "\n",
       "   V relative (km/s)  V infinity (km/s)  H (mag)        Diameter  \\\n",
       "0               8.69               8.65     20.1  250 m -  570 m   \n",
       "1              10.65              10.65     24.3   37 m -   82 m   \n",
       "2               7.16               7.15     24.3   37 m -   82 m   \n",
       "3               5.55               5.52     18.3         0.33 km   \n",
       "4               3.14               3.12     24.1   40 m -   90 m   \n",
       "\n",
       "  Nominal Distance LD Nominal Distance au Minimum Distance LD  \\\n",
       "0               3.75              0.00963               3.75    \n",
       "1              15.55              0.03997              15.53    \n",
       "2              19.39              0.04982              19.26    \n",
       "3               8.09              0.02078               8.08    \n",
       "4              12.89              0.03312              12.68    \n",
       "\n",
       "  Minimum Distance au  \n",
       "0             0.00962  \n",
       "1             0.03991  \n",
       "2             0.04950  \n",
       "3             0.02076  \n",
       "4             0.03258  "
      ]
     },
     "execution_count": 7,
     "metadata": {},
     "output_type": "execute_result"
    }
   ],
   "source": [
    "#step 4: confirm new coulmns added\n",
    "close_approach.head()"
   ]
  },
  {
   "cell_type": "code",
   "execution_count": 8,
   "metadata": {},
   "outputs": [],
   "source": [
    "# step 5: remove old distance columns and only keep the new LD distance columns\n",
    "close_approach.drop(['CA Distance Nominal (LD | au)', 'CA Distance Minimum (LD | au)', \n",
    "                     'Nominal Distance au', 'Minimum Distance au'], axis = 1, inplace=True)\n"
   ]
  },
  {
   "cell_type": "code",
   "execution_count": 9,
   "metadata": {},
   "outputs": [],
   "source": [
    "# step 6:  for use later, create a column of booleans based on whether the diamter is measure in kilometers or meters\n",
    "\n",
    "close_approach['diameter meters'] = np.where(close_approach['Diameter'].str.contains('km'), False, True)"
   ]
  },
  {
   "cell_type": "code",
   "execution_count": 10,
   "metadata": {},
   "outputs": [],
   "source": [
    "# step 7:  since we created the column in step 6, remove the letters from the diameter column to allow for mean calculation\n",
    "\n",
    "close_approach['Diameter'] = close_approach.Diameter.str.replace(r\"[a-zA-Z]\",'')\n"
   ]
  },
  {
   "cell_type": "code",
   "execution_count": 11,
   "metadata": {},
   "outputs": [],
   "source": [
    "#  step 8 split the diamter column into two new columns (low, high)seperate diameter column and take average\n",
    "close_approach[['diameter low', 'diameter high']]=close_approach['Diameter'].str.split('-', expand = True)\n"
   ]
  },
  {
   "cell_type": "code",
   "execution_count": 12,
   "metadata": {},
   "outputs": [
    {
     "data": {
      "text/html": [
       "<div>\n",
       "<style scoped>\n",
       "    .dataframe tbody tr th:only-of-type {\n",
       "        vertical-align: middle;\n",
       "    }\n",
       "\n",
       "    .dataframe tbody tr th {\n",
       "        vertical-align: top;\n",
       "    }\n",
       "\n",
       "    .dataframe thead th {\n",
       "        text-align: right;\n",
       "    }\n",
       "</style>\n",
       "<table border=\"1\" class=\"dataframe\">\n",
       "  <thead>\n",
       "    <tr style=\"text-align: right;\">\n",
       "      <th></th>\n",
       "      <th>Object</th>\n",
       "      <th>Close-Approach (CA) Date</th>\n",
       "      <th>V relative (km/s)</th>\n",
       "      <th>V infinity (km/s)</th>\n",
       "      <th>H (mag)</th>\n",
       "      <th>Diameter</th>\n",
       "      <th>Nominal Distance LD</th>\n",
       "      <th>Minimum Distance LD</th>\n",
       "      <th>diameter meters</th>\n",
       "      <th>diameter low</th>\n",
       "      <th>diameter high</th>\n",
       "    </tr>\n",
       "  </thead>\n",
       "  <tbody>\n",
       "    <tr>\n",
       "      <th>0</th>\n",
       "      <td>509352 (2007 AG)</td>\n",
       "      <td>1900-Jan-04</td>\n",
       "      <td>8.69</td>\n",
       "      <td>8.65</td>\n",
       "      <td>20.1</td>\n",
       "      <td>250  -  570</td>\n",
       "      <td>3.75</td>\n",
       "      <td>3.75</td>\n",
       "      <td>True</td>\n",
       "      <td>250</td>\n",
       "      <td>570</td>\n",
       "    </tr>\n",
       "    <tr>\n",
       "      <th>1</th>\n",
       "      <td>(2014 SC324)</td>\n",
       "      <td>1900-Jan-11</td>\n",
       "      <td>10.65</td>\n",
       "      <td>10.65</td>\n",
       "      <td>24.3</td>\n",
       "      <td>37  -   82</td>\n",
       "      <td>15.55</td>\n",
       "      <td>15.53</td>\n",
       "      <td>True</td>\n",
       "      <td>37</td>\n",
       "      <td>82</td>\n",
       "    </tr>\n",
       "    <tr>\n",
       "      <th>2</th>\n",
       "      <td>(2012 UK171)</td>\n",
       "      <td>1900-Jan-12</td>\n",
       "      <td>7.16</td>\n",
       "      <td>7.15</td>\n",
       "      <td>24.3</td>\n",
       "      <td>37  -   82</td>\n",
       "      <td>19.39</td>\n",
       "      <td>19.26</td>\n",
       "      <td>True</td>\n",
       "      <td>37</td>\n",
       "      <td>82</td>\n",
       "    </tr>\n",
       "    <tr>\n",
       "      <th>3</th>\n",
       "      <td>4660 Nereus (1982 DB)</td>\n",
       "      <td>1900-Jan-29</td>\n",
       "      <td>5.55</td>\n",
       "      <td>5.52</td>\n",
       "      <td>18.3</td>\n",
       "      <td>0.33</td>\n",
       "      <td>8.09</td>\n",
       "      <td>8.08</td>\n",
       "      <td>False</td>\n",
       "      <td>0.33</td>\n",
       "      <td>None</td>\n",
       "    </tr>\n",
       "    <tr>\n",
       "      <th>4</th>\n",
       "      <td>(2015 RW83)</td>\n",
       "      <td>1900-Feb-04</td>\n",
       "      <td>3.14</td>\n",
       "      <td>3.12</td>\n",
       "      <td>24.1</td>\n",
       "      <td>40  -   90</td>\n",
       "      <td>12.89</td>\n",
       "      <td>12.68</td>\n",
       "      <td>True</td>\n",
       "      <td>40</td>\n",
       "      <td>90</td>\n",
       "    </tr>\n",
       "  </tbody>\n",
       "</table>\n",
       "</div>"
      ],
      "text/plain": [
       "                  Object Close-Approach (CA) Date  V relative (km/s)  \\\n",
       "0       509352 (2007 AG)              1900-Jan-04               8.69   \n",
       "1           (2014 SC324)              1900-Jan-11              10.65   \n",
       "2           (2012 UK171)              1900-Jan-12               7.16   \n",
       "3  4660 Nereus (1982 DB)              1900-Jan-29               5.55   \n",
       "4            (2015 RW83)              1900-Feb-04               3.14   \n",
       "\n",
       "   V infinity (km/s)  H (mag)      Diameter Nominal Distance LD  \\\n",
       "0               8.65     20.1  250  -  570                3.75    \n",
       "1              10.65     24.3   37  -   82               15.55    \n",
       "2               7.15     24.3   37  -   82               19.39    \n",
       "3               5.52     18.3         0.33                8.09    \n",
       "4               3.12     24.1   40  -   90               12.89    \n",
       "\n",
       "  Minimum Distance LD  diameter meters diameter low diameter high  \n",
       "0               3.75              True        250            570   \n",
       "1              15.53              True         37             82   \n",
       "2              19.26              True         37             82   \n",
       "3               8.08             False        0.33           None  \n",
       "4              12.68              True         40             90   "
      ]
     },
     "execution_count": 12,
     "metadata": {},
     "output_type": "execute_result"
    }
   ],
   "source": [
    "# step 9:  confirm new columns are added\n",
    "\n",
    "close_approach.head()"
   ]
  },
  {
   "cell_type": "code",
   "execution_count": 13,
   "metadata": {},
   "outputs": [],
   "source": [
    "#  step 10:  since there were some diameter values that did not have a high and low, several lines in the new columns are None - for caluculation, make these 0\n",
    "\n",
    "close_approach['diameter high'] = close_approach['diameter high'].fillna(0)\n"
   ]
  },
  {
   "cell_type": "code",
   "execution_count": 14,
   "metadata": {},
   "outputs": [
    {
     "name": "stdout",
     "output_type": "stream",
     "text": [
      "<class 'pandas.core.frame.DataFrame'>\n",
      "Int64Index: 28330 entries, 0 to 28351\n",
      "Data columns (total 11 columns):\n",
      " #   Column                    Non-Null Count  Dtype  \n",
      "---  ------                    --------------  -----  \n",
      " 0   Object                    28330 non-null  object \n",
      " 1   Close-Approach (CA) Date  28330 non-null  object \n",
      " 2   V relative (km/s)         28330 non-null  float64\n",
      " 3   V infinity (km/s)         28330 non-null  float64\n",
      " 4   H (mag)                   28330 non-null  float64\n",
      " 5   Diameter                  28330 non-null  object \n",
      " 6   Nominal Distance LD       28330 non-null  object \n",
      " 7   Minimum Distance LD       28330 non-null  object \n",
      " 8   diameter meters           28330 non-null  bool   \n",
      " 9   diameter low              28330 non-null  object \n",
      " 10  diameter high             28330 non-null  object \n",
      "dtypes: bool(1), float64(3), object(7)\n",
      "memory usage: 2.4+ MB\n"
     ]
    }
   ],
   "source": [
    "# step 11:  some lines have null values that will prevent calculations - get rid of nulls (22 out of 28k)\n",
    "\n",
    "close_approach.dropna(axis = 0, inplace=True, how = 'any')\n",
    "close_approach.info()"
   ]
  },
  {
   "cell_type": "code",
   "execution_count": 15,
   "metadata": {},
   "outputs": [
    {
     "data": {
      "text/html": [
       "<div>\n",
       "<style scoped>\n",
       "    .dataframe tbody tr th:only-of-type {\n",
       "        vertical-align: middle;\n",
       "    }\n",
       "\n",
       "    .dataframe tbody tr th {\n",
       "        vertical-align: top;\n",
       "    }\n",
       "\n",
       "    .dataframe thead th {\n",
       "        text-align: right;\n",
       "    }\n",
       "</style>\n",
       "<table border=\"1\" class=\"dataframe\">\n",
       "  <thead>\n",
       "    <tr style=\"text-align: right;\">\n",
       "      <th></th>\n",
       "      <th>Object</th>\n",
       "      <th>Close-Approach (CA) Date</th>\n",
       "      <th>V relative (km/s)</th>\n",
       "      <th>V infinity (km/s)</th>\n",
       "      <th>H (mag)</th>\n",
       "      <th>Diameter</th>\n",
       "      <th>Nominal Distance LD</th>\n",
       "      <th>Minimum Distance LD</th>\n",
       "      <th>diameter meters</th>\n",
       "      <th>diameter low</th>\n",
       "      <th>diameter high</th>\n",
       "    </tr>\n",
       "  </thead>\n",
       "  <tbody>\n",
       "    <tr>\n",
       "      <th>0</th>\n",
       "      <td>509352 (2007 AG)</td>\n",
       "      <td>1900-Jan-04</td>\n",
       "      <td>8.69</td>\n",
       "      <td>8.65</td>\n",
       "      <td>20.1</td>\n",
       "      <td>250  -  570</td>\n",
       "      <td>3.75</td>\n",
       "      <td>3.75</td>\n",
       "      <td>True</td>\n",
       "      <td>250</td>\n",
       "      <td>570</td>\n",
       "    </tr>\n",
       "    <tr>\n",
       "      <th>1</th>\n",
       "      <td>(2014 SC324)</td>\n",
       "      <td>1900-Jan-11</td>\n",
       "      <td>10.65</td>\n",
       "      <td>10.65</td>\n",
       "      <td>24.3</td>\n",
       "      <td>37  -   82</td>\n",
       "      <td>15.55</td>\n",
       "      <td>15.53</td>\n",
       "      <td>True</td>\n",
       "      <td>37</td>\n",
       "      <td>82</td>\n",
       "    </tr>\n",
       "    <tr>\n",
       "      <th>2</th>\n",
       "      <td>(2012 UK171)</td>\n",
       "      <td>1900-Jan-12</td>\n",
       "      <td>7.16</td>\n",
       "      <td>7.15</td>\n",
       "      <td>24.3</td>\n",
       "      <td>37  -   82</td>\n",
       "      <td>19.39</td>\n",
       "      <td>19.26</td>\n",
       "      <td>True</td>\n",
       "      <td>37</td>\n",
       "      <td>82</td>\n",
       "    </tr>\n",
       "    <tr>\n",
       "      <th>3</th>\n",
       "      <td>4660 Nereus (1982 DB)</td>\n",
       "      <td>1900-Jan-29</td>\n",
       "      <td>5.55</td>\n",
       "      <td>5.52</td>\n",
       "      <td>18.3</td>\n",
       "      <td>0.33</td>\n",
       "      <td>8.09</td>\n",
       "      <td>8.08</td>\n",
       "      <td>False</td>\n",
       "      <td>0.33</td>\n",
       "      <td>NaN</td>\n",
       "    </tr>\n",
       "    <tr>\n",
       "      <th>4</th>\n",
       "      <td>(2015 RW83)</td>\n",
       "      <td>1900-Feb-04</td>\n",
       "      <td>3.14</td>\n",
       "      <td>3.12</td>\n",
       "      <td>24.1</td>\n",
       "      <td>40  -   90</td>\n",
       "      <td>12.89</td>\n",
       "      <td>12.68</td>\n",
       "      <td>True</td>\n",
       "      <td>40</td>\n",
       "      <td>90</td>\n",
       "    </tr>\n",
       "  </tbody>\n",
       "</table>\n",
       "</div>"
      ],
      "text/plain": [
       "                  Object Close-Approach (CA) Date  V relative (km/s)  \\\n",
       "0       509352 (2007 AG)              1900-Jan-04               8.69   \n",
       "1           (2014 SC324)              1900-Jan-11              10.65   \n",
       "2           (2012 UK171)              1900-Jan-12               7.16   \n",
       "3  4660 Nereus (1982 DB)              1900-Jan-29               5.55   \n",
       "4            (2015 RW83)              1900-Feb-04               3.14   \n",
       "\n",
       "   V infinity (km/s)  H (mag)      Diameter Nominal Distance LD  \\\n",
       "0               8.65     20.1  250  -  570                3.75    \n",
       "1              10.65     24.3   37  -   82               15.55    \n",
       "2               7.15     24.3   37  -   82               19.39    \n",
       "3               5.52     18.3         0.33                8.09    \n",
       "4               3.12     24.1   40  -   90               12.89    \n",
       "\n",
       "  Minimum Distance LD  diameter meters diameter low diameter high  \n",
       "0               3.75              True          250           570  \n",
       "1              15.53              True           37            82  \n",
       "2              19.26              True           37            82  \n",
       "3               8.08             False         0.33           NaN  \n",
       "4              12.68              True           40            90  "
      ]
     },
     "execution_count": 15,
     "metadata": {},
     "output_type": "execute_result"
    }
   ],
   "source": [
    "# step 12:  remove extra special characters from diameter columns, they are preventing calculations\n",
    "\n",
    "close_approach['diameter low'] = close_approach['diameter low'].str.replace(r\"[^\\d.]\",'')\n",
    "close_approach['diameter high'] = close_approach['diameter high'].str.replace(r\"[^\\d.]\",'')\n",
    "close_approach.head()"
   ]
  },
  {
   "cell_type": "code",
   "execution_count": 16,
   "metadata": {},
   "outputs": [
    {
     "data": {
      "text/html": [
       "<div>\n",
       "<style scoped>\n",
       "    .dataframe tbody tr th:only-of-type {\n",
       "        vertical-align: middle;\n",
       "    }\n",
       "\n",
       "    .dataframe tbody tr th {\n",
       "        vertical-align: top;\n",
       "    }\n",
       "\n",
       "    .dataframe thead th {\n",
       "        text-align: right;\n",
       "    }\n",
       "</style>\n",
       "<table border=\"1\" class=\"dataframe\">\n",
       "  <thead>\n",
       "    <tr style=\"text-align: right;\">\n",
       "      <th></th>\n",
       "      <th>Object</th>\n",
       "      <th>Close-Approach (CA) Date</th>\n",
       "      <th>V relative (km/s)</th>\n",
       "      <th>V infinity (km/s)</th>\n",
       "      <th>H (mag)</th>\n",
       "      <th>Diameter</th>\n",
       "      <th>Nominal Distance LD</th>\n",
       "      <th>Minimum Distance LD</th>\n",
       "      <th>diameter meters</th>\n",
       "      <th>diameter low</th>\n",
       "      <th>diameter high</th>\n",
       "    </tr>\n",
       "  </thead>\n",
       "  <tbody>\n",
       "    <tr>\n",
       "      <th>0</th>\n",
       "      <td>509352 (2007 AG)</td>\n",
       "      <td>1900-Jan-04</td>\n",
       "      <td>8.69</td>\n",
       "      <td>8.65</td>\n",
       "      <td>20.1</td>\n",
       "      <td>250  -  570</td>\n",
       "      <td>3.75</td>\n",
       "      <td>3.75</td>\n",
       "      <td>True</td>\n",
       "      <td>250</td>\n",
       "      <td>570</td>\n",
       "    </tr>\n",
       "    <tr>\n",
       "      <th>1</th>\n",
       "      <td>(2014 SC324)</td>\n",
       "      <td>1900-Jan-11</td>\n",
       "      <td>10.65</td>\n",
       "      <td>10.65</td>\n",
       "      <td>24.3</td>\n",
       "      <td>37  -   82</td>\n",
       "      <td>15.55</td>\n",
       "      <td>15.53</td>\n",
       "      <td>True</td>\n",
       "      <td>37</td>\n",
       "      <td>82</td>\n",
       "    </tr>\n",
       "    <tr>\n",
       "      <th>2</th>\n",
       "      <td>(2012 UK171)</td>\n",
       "      <td>1900-Jan-12</td>\n",
       "      <td>7.16</td>\n",
       "      <td>7.15</td>\n",
       "      <td>24.3</td>\n",
       "      <td>37  -   82</td>\n",
       "      <td>19.39</td>\n",
       "      <td>19.26</td>\n",
       "      <td>True</td>\n",
       "      <td>37</td>\n",
       "      <td>82</td>\n",
       "    </tr>\n",
       "    <tr>\n",
       "      <th>3</th>\n",
       "      <td>4660 Nereus (1982 DB)</td>\n",
       "      <td>1900-Jan-29</td>\n",
       "      <td>5.55</td>\n",
       "      <td>5.52</td>\n",
       "      <td>18.3</td>\n",
       "      <td>0.33</td>\n",
       "      <td>8.09</td>\n",
       "      <td>8.08</td>\n",
       "      <td>False</td>\n",
       "      <td>0.3</td>\n",
       "      <td>NaN</td>\n",
       "    </tr>\n",
       "    <tr>\n",
       "      <th>4</th>\n",
       "      <td>(2015 RW83)</td>\n",
       "      <td>1900-Feb-04</td>\n",
       "      <td>3.14</td>\n",
       "      <td>3.12</td>\n",
       "      <td>24.1</td>\n",
       "      <td>40  -   90</td>\n",
       "      <td>12.89</td>\n",
       "      <td>12.68</td>\n",
       "      <td>True</td>\n",
       "      <td>40</td>\n",
       "      <td>90</td>\n",
       "    </tr>\n",
       "  </tbody>\n",
       "</table>\n",
       "</div>"
      ],
      "text/plain": [
       "                  Object Close-Approach (CA) Date  V relative (km/s)  \\\n",
       "0       509352 (2007 AG)              1900-Jan-04               8.69   \n",
       "1           (2014 SC324)              1900-Jan-11              10.65   \n",
       "2           (2012 UK171)              1900-Jan-12               7.16   \n",
       "3  4660 Nereus (1982 DB)              1900-Jan-29               5.55   \n",
       "4            (2015 RW83)              1900-Feb-04               3.14   \n",
       "\n",
       "   V infinity (km/s)  H (mag)      Diameter Nominal Distance LD  \\\n",
       "0               8.65     20.1  250  -  570                3.75    \n",
       "1              10.65     24.3   37  -   82               15.55    \n",
       "2               7.15     24.3   37  -   82               19.39    \n",
       "3               5.52     18.3         0.33                8.09    \n",
       "4               3.12     24.1   40  -   90               12.89    \n",
       "\n",
       "  Minimum Distance LD  diameter meters diameter low diameter high  \n",
       "0               3.75              True          250           570  \n",
       "1              15.53              True           37            82  \n",
       "2              19.26              True           37            82  \n",
       "3               8.08             False          0.3           NaN  \n",
       "4              12.68              True           40            90  "
      ]
     },
     "execution_count": 16,
     "metadata": {},
     "output_type": "execute_result"
    }
   ],
   "source": [
    "# step 13:  there are a few remaining lines with odd formatting, triming these values down to tenths removes this.  Loses some accuracy but ok for these purposes.\n",
    "\n",
    "close_approach['diameter low'] = close_approach['diameter low'].str[:3]\n",
    "close_approach['diameter high'] = close_approach['diameter high'].str[:3]\n",
    "close_approach.head()"
   ]
  },
  {
   "cell_type": "code",
   "execution_count": 17,
   "metadata": {},
   "outputs": [
    {
     "name": "stdout",
     "output_type": "stream",
     "text": [
      "<class 'pandas.core.frame.DataFrame'>\n",
      "Int64Index: 28330 entries, 0 to 28351\n",
      "Data columns (total 11 columns):\n",
      " #   Column                    Non-Null Count  Dtype  \n",
      "---  ------                    --------------  -----  \n",
      " 0   Object                    28330 non-null  object \n",
      " 1   Close-Approach (CA) Date  28330 non-null  object \n",
      " 2   V relative (km/s)         28330 non-null  float64\n",
      " 3   V infinity (km/s)         28330 non-null  float64\n",
      " 4   H (mag)                   28330 non-null  float64\n",
      " 5   Diameter                  28330 non-null  object \n",
      " 6   Nominal Distance LD       28330 non-null  float64\n",
      " 7   Minimum Distance LD       28330 non-null  object \n",
      " 8   diameter meters           28330 non-null  bool   \n",
      " 9   diameter low              28330 non-null  float64\n",
      " 10  diameter high             26884 non-null  float64\n",
      "dtypes: bool(1), float64(6), object(4)\n",
      "memory usage: 2.4+ MB\n"
     ]
    }
   ],
   "source": [
    "# step 14:  cast diameter columns as floats, also cast Nominal Distance as float - not necessary for calculation but allows for easier analysis later on\n",
    "\n",
    "close_approach[\"diameter low\"] = close_approach[\"diameter low\"].astype(float)\n",
    "close_approach[\"diameter high\"] = close_approach[\"diameter high\"].astype(float)\n",
    "close_approach[\"Nominal Distance LD\"] = close_approach[\"Nominal Distance LD\"].astype(float)\n",
    "close_approach.info()"
   ]
  },
  {
   "cell_type": "code",
   "execution_count": 18,
   "metadata": {},
   "outputs": [],
   "source": [
    "#step 15:  calculathe the mean of diameter high and low.  If there is a 0 in diameter high, use the diameter low value\n",
    "\n",
    "close_approach['diameter mean'] = np.where(close_approach['diameter high'] != 0, close_approach[['diameter low', 'diameter high']].mean(axis=1), close_approach['diameter low'])"
   ]
  },
  {
   "cell_type": "code",
   "execution_count": 19,
   "metadata": {},
   "outputs": [],
   "source": [
    "# step 16:  create a new column that contains the mean diamter all in meters (if column 6 is false multiply by 1000)\n",
    "\n",
    "close_approach['diameter mean meters'] = np.where(close_approach['diameter meters'] == True, close_approach['diameter mean'], close_approach['diameter mean']*1000)"
   ]
  },
  {
   "cell_type": "code",
   "execution_count": 20,
   "metadata": {},
   "outputs": [],
   "source": [
    "#step 17:  drop any columns no longer needed\n",
    "\n",
    "close_approach.drop(['diameter meters', 'diameter low', 'diameter high', 'diameter mean', 'Diameter'], axis=1, inplace = True)"
   ]
  },
  {
   "cell_type": "code",
   "execution_count": 21,
   "metadata": {},
   "outputs": [
    {
     "data": {
      "text/html": [
       "<div>\n",
       "<style scoped>\n",
       "    .dataframe tbody tr th:only-of-type {\n",
       "        vertical-align: middle;\n",
       "    }\n",
       "\n",
       "    .dataframe tbody tr th {\n",
       "        vertical-align: top;\n",
       "    }\n",
       "\n",
       "    .dataframe thead th {\n",
       "        text-align: right;\n",
       "    }\n",
       "</style>\n",
       "<table border=\"1\" class=\"dataframe\">\n",
       "  <thead>\n",
       "    <tr style=\"text-align: right;\">\n",
       "      <th></th>\n",
       "      <th>Object</th>\n",
       "      <th>Close-Approach (CA) Date</th>\n",
       "      <th>V relative (km/s)</th>\n",
       "      <th>V infinity (km/s)</th>\n",
       "      <th>H (mag)</th>\n",
       "      <th>Nominal Distance LD</th>\n",
       "      <th>Minimum Distance LD</th>\n",
       "      <th>diameter mean meters</th>\n",
       "      <th>year</th>\n",
       "      <th>month</th>\n",
       "      <th>day</th>\n",
       "    </tr>\n",
       "  </thead>\n",
       "  <tbody>\n",
       "    <tr>\n",
       "      <th>0</th>\n",
       "      <td>509352 (2007 AG)</td>\n",
       "      <td>1900-Jan-04</td>\n",
       "      <td>8.69</td>\n",
       "      <td>8.65</td>\n",
       "      <td>20.1</td>\n",
       "      <td>3.75</td>\n",
       "      <td>3.75</td>\n",
       "      <td>410.0</td>\n",
       "      <td>1900</td>\n",
       "      <td>Jan</td>\n",
       "      <td>04</td>\n",
       "    </tr>\n",
       "    <tr>\n",
       "      <th>1</th>\n",
       "      <td>(2014 SC324)</td>\n",
       "      <td>1900-Jan-11</td>\n",
       "      <td>10.65</td>\n",
       "      <td>10.65</td>\n",
       "      <td>24.3</td>\n",
       "      <td>15.55</td>\n",
       "      <td>15.53</td>\n",
       "      <td>59.5</td>\n",
       "      <td>1900</td>\n",
       "      <td>Jan</td>\n",
       "      <td>11</td>\n",
       "    </tr>\n",
       "    <tr>\n",
       "      <th>2</th>\n",
       "      <td>(2012 UK171)</td>\n",
       "      <td>1900-Jan-12</td>\n",
       "      <td>7.16</td>\n",
       "      <td>7.15</td>\n",
       "      <td>24.3</td>\n",
       "      <td>19.39</td>\n",
       "      <td>19.26</td>\n",
       "      <td>59.5</td>\n",
       "      <td>1900</td>\n",
       "      <td>Jan</td>\n",
       "      <td>12</td>\n",
       "    </tr>\n",
       "    <tr>\n",
       "      <th>3</th>\n",
       "      <td>4660 Nereus (1982 DB)</td>\n",
       "      <td>1900-Jan-29</td>\n",
       "      <td>5.55</td>\n",
       "      <td>5.52</td>\n",
       "      <td>18.3</td>\n",
       "      <td>8.09</td>\n",
       "      <td>8.08</td>\n",
       "      <td>300.0</td>\n",
       "      <td>1900</td>\n",
       "      <td>Jan</td>\n",
       "      <td>29</td>\n",
       "    </tr>\n",
       "    <tr>\n",
       "      <th>4</th>\n",
       "      <td>(2015 RW83)</td>\n",
       "      <td>1900-Feb-04</td>\n",
       "      <td>3.14</td>\n",
       "      <td>3.12</td>\n",
       "      <td>24.1</td>\n",
       "      <td>12.89</td>\n",
       "      <td>12.68</td>\n",
       "      <td>65.0</td>\n",
       "      <td>1900</td>\n",
       "      <td>Feb</td>\n",
       "      <td>04</td>\n",
       "    </tr>\n",
       "  </tbody>\n",
       "</table>\n",
       "</div>"
      ],
      "text/plain": [
       "                  Object Close-Approach (CA) Date  V relative (km/s)  \\\n",
       "0       509352 (2007 AG)              1900-Jan-04               8.69   \n",
       "1           (2014 SC324)              1900-Jan-11              10.65   \n",
       "2           (2012 UK171)              1900-Jan-12               7.16   \n",
       "3  4660 Nereus (1982 DB)              1900-Jan-29               5.55   \n",
       "4            (2015 RW83)              1900-Feb-04               3.14   \n",
       "\n",
       "   V infinity (km/s)  H (mag)  Nominal Distance LD Minimum Distance LD  \\\n",
       "0               8.65     20.1                 3.75               3.75    \n",
       "1              10.65     24.3                15.55              15.53    \n",
       "2               7.15     24.3                19.39              19.26    \n",
       "3               5.52     18.3                 8.09               8.08    \n",
       "4               3.12     24.1                12.89              12.68    \n",
       "\n",
       "   diameter mean meters  year month day  \n",
       "0                 410.0  1900   Jan  04  \n",
       "1                  59.5  1900   Jan  11  \n",
       "2                  59.5  1900   Jan  12  \n",
       "3                 300.0  1900   Jan  29  \n",
       "4                  65.0  1900   Feb  04  "
      ]
     },
     "execution_count": 21,
     "metadata": {},
     "output_type": "execute_result"
    }
   ],
   "source": [
    "# step 18:  split out the date column into year, month and day for ease of grouping\n",
    "\n",
    "close_approach[['year', 'month', 'day']] = close_approach[\"Close-Approach (CA) Date\"].str.split('-', expand = True)\n",
    "close_approach.head()"
   ]
  },
  {
   "cell_type": "code",
   "execution_count": 22,
   "metadata": {},
   "outputs": [
    {
     "data": {
      "text/html": [
       "<div>\n",
       "<style scoped>\n",
       "    .dataframe tbody tr th:only-of-type {\n",
       "        vertical-align: middle;\n",
       "    }\n",
       "\n",
       "    .dataframe tbody tr th {\n",
       "        vertical-align: top;\n",
       "    }\n",
       "\n",
       "    .dataframe thead th {\n",
       "        text-align: right;\n",
       "    }\n",
       "</style>\n",
       "<table border=\"1\" class=\"dataframe\">\n",
       "  <thead>\n",
       "    <tr style=\"text-align: right;\">\n",
       "      <th></th>\n",
       "      <th>Object</th>\n",
       "      <th>Close-Approach (CA) Date</th>\n",
       "      <th>V relative (km/s)</th>\n",
       "      <th>V infinity (km/s)</th>\n",
       "      <th>H (mag)</th>\n",
       "      <th>Nominal Distance LD</th>\n",
       "      <th>Minimum Distance LD</th>\n",
       "      <th>diameter mean meters</th>\n",
       "      <th>year</th>\n",
       "      <th>month</th>\n",
       "      <th>day</th>\n",
       "    </tr>\n",
       "  </thead>\n",
       "  <tbody>\n",
       "    <tr>\n",
       "      <th>0</th>\n",
       "      <td>509352 (2007 AG)</td>\n",
       "      <td>1900-Jan-04</td>\n",
       "      <td>8.69</td>\n",
       "      <td>8.65</td>\n",
       "      <td>20.1</td>\n",
       "      <td>3.75</td>\n",
       "      <td>3.75</td>\n",
       "      <td>410.0</td>\n",
       "      <td>1900</td>\n",
       "      <td>Jan</td>\n",
       "      <td>04</td>\n",
       "    </tr>\n",
       "    <tr>\n",
       "      <th>1</th>\n",
       "      <td>(2014 SC324)</td>\n",
       "      <td>1900-Jan-11</td>\n",
       "      <td>10.65</td>\n",
       "      <td>10.65</td>\n",
       "      <td>24.3</td>\n",
       "      <td>15.55</td>\n",
       "      <td>15.53</td>\n",
       "      <td>59.5</td>\n",
       "      <td>1900</td>\n",
       "      <td>Jan</td>\n",
       "      <td>11</td>\n",
       "    </tr>\n",
       "    <tr>\n",
       "      <th>2</th>\n",
       "      <td>(2012 UK171)</td>\n",
       "      <td>1900-Jan-12</td>\n",
       "      <td>7.16</td>\n",
       "      <td>7.15</td>\n",
       "      <td>24.3</td>\n",
       "      <td>19.39</td>\n",
       "      <td>19.26</td>\n",
       "      <td>59.5</td>\n",
       "      <td>1900</td>\n",
       "      <td>Jan</td>\n",
       "      <td>12</td>\n",
       "    </tr>\n",
       "    <tr>\n",
       "      <th>3</th>\n",
       "      <td>4660 Nereus (1982 DB)</td>\n",
       "      <td>1900-Jan-29</td>\n",
       "      <td>5.55</td>\n",
       "      <td>5.52</td>\n",
       "      <td>18.3</td>\n",
       "      <td>8.09</td>\n",
       "      <td>8.08</td>\n",
       "      <td>300.0</td>\n",
       "      <td>1900</td>\n",
       "      <td>Jan</td>\n",
       "      <td>29</td>\n",
       "    </tr>\n",
       "    <tr>\n",
       "      <th>4</th>\n",
       "      <td>(2015 RW83)</td>\n",
       "      <td>1900-Feb-04</td>\n",
       "      <td>3.14</td>\n",
       "      <td>3.12</td>\n",
       "      <td>24.1</td>\n",
       "      <td>12.89</td>\n",
       "      <td>12.68</td>\n",
       "      <td>65.0</td>\n",
       "      <td>1900</td>\n",
       "      <td>Feb</td>\n",
       "      <td>04</td>\n",
       "    </tr>\n",
       "  </tbody>\n",
       "</table>\n",
       "</div>"
      ],
      "text/plain": [
       "                  Object Close-Approach (CA) Date  V relative (km/s)  \\\n",
       "0       509352 (2007 AG)              1900-Jan-04               8.69   \n",
       "1           (2014 SC324)              1900-Jan-11              10.65   \n",
       "2           (2012 UK171)              1900-Jan-12               7.16   \n",
       "3  4660 Nereus (1982 DB)              1900-Jan-29               5.55   \n",
       "4            (2015 RW83)              1900-Feb-04               3.14   \n",
       "\n",
       "   V infinity (km/s)  H (mag)  Nominal Distance LD Minimum Distance LD  \\\n",
       "0               8.65     20.1                 3.75               3.75    \n",
       "1              10.65     24.3                15.55              15.53    \n",
       "2               7.15     24.3                19.39              19.26    \n",
       "3               5.52     18.3                 8.09               8.08    \n",
       "4               3.12     24.1                12.89              12.68    \n",
       "\n",
       "   diameter mean meters  year month day  \n",
       "0                 410.0  1900   Jan  04  \n",
       "1                  59.5  1900   Jan  11  \n",
       "2                  59.5  1900   Jan  12  \n",
       "3                 300.0  1900   Jan  29  \n",
       "4                  65.0  1900   Feb  04  "
      ]
     },
     "execution_count": 22,
     "metadata": {},
     "output_type": "execute_result"
    }
   ],
   "source": [
    "# step 19:  confirm columns and data form\n",
    "\n",
    "close_approach.head()"
   ]
  },
  {
   "cell_type": "markdown",
   "metadata": {},
   "source": [
    "# Explore and Analyze the Data\n",
    "\n",
    "Explore the data through various methods, use charts to visulize.  I picked a few things to look into that I though would be interesting.  \n",
    "\n",
    "1.  use .describe() to get a summary of the data (this is why I casted Distance as float above)\n",
    "2.  use groupby and sort_values to find the top ten years with the least close approaches\n",
    "3.  use groupby and sort_values to find the top ten years with the most close approaches\n",
    "4.  calculate the average per year\n",
    "5.  calculate the count of close approaches by year\n",
    "6.  create a graph that displays the count of close approaches by year\n",
    "7.  calucluate the average number of lcose approaches per month\n",
    "8.  create a graph of the average close approaches per month\n",
    "9.  sort out the top ten close approaches (by distance) for the year 2020\n",
    "10.  create a graph of the top ten close approaches, vary the size of the marked based on the diameter\n",
    "11.  sort out the top ten close approaches (by distance) for the year 2021\n",
    "12.  create a graph of the top ten close approaches, vary the size of the marked based on the diameter\n",
    "13.  sort out the top ten close approaches (by distance) for the year 2022\n",
    "14.  create a graph of the top ten close approaches, vary the size of the marked based on the diameter\n",
    "15.  sort out the top ten close approaches (by distance) for all future years\n",
    "16.  create a graph of the top ten close approaches, vary the size of the marked based on the diameter\n",
    "17.  create an api request to pull additional information regarding the outlier\n",
    "18.  make initial request to url\n",
    "19.  confirm request status code\n",
    "20.  confirm text of the request\n",
    "21.  look up the keys from the json dictionary\n",
    "22.  create a list from the fields key and values\n",
    "23.  create a list from the data key  and values\n",
    "24.  the data list is nested, get rid of the nesting\n",
    "25.  zip the created lists of fields and data into a dictionary\n",
    "26.  create a dataframe from the dictionary, remove exccess columns and display the data\n"
   ]
  },
  {
   "cell_type": "code",
   "execution_count": 23,
   "metadata": {},
   "outputs": [
    {
     "data": {
      "text/html": [
       "<div>\n",
       "<style scoped>\n",
       "    .dataframe tbody tr th:only-of-type {\n",
       "        vertical-align: middle;\n",
       "    }\n",
       "\n",
       "    .dataframe tbody tr th {\n",
       "        vertical-align: top;\n",
       "    }\n",
       "\n",
       "    .dataframe thead th {\n",
       "        text-align: right;\n",
       "    }\n",
       "</style>\n",
       "<table border=\"1\" class=\"dataframe\">\n",
       "  <thead>\n",
       "    <tr style=\"text-align: right;\">\n",
       "      <th></th>\n",
       "      <th>V relative (km/s)</th>\n",
       "      <th>V infinity (km/s)</th>\n",
       "      <th>H (mag)</th>\n",
       "      <th>Nominal Distance LD</th>\n",
       "      <th>diameter mean meters</th>\n",
       "    </tr>\n",
       "  </thead>\n",
       "  <tbody>\n",
       "    <tr>\n",
       "      <th>count</th>\n",
       "      <td>28330.000000</td>\n",
       "      <td>28330.000000</td>\n",
       "      <td>28330.000000</td>\n",
       "      <td>28330.000000</td>\n",
       "      <td>28330.000000</td>\n",
       "    </tr>\n",
       "    <tr>\n",
       "      <th>mean</th>\n",
       "      <td>10.498532</td>\n",
       "      <td>10.471188</td>\n",
       "      <td>24.573685</td>\n",
       "      <td>10.988586</td>\n",
       "      <td>5733.311015</td>\n",
       "    </tr>\n",
       "    <tr>\n",
       "      <th>std</th>\n",
       "      <td>5.482079</td>\n",
       "      <td>5.492262</td>\n",
       "      <td>2.735782</td>\n",
       "      <td>5.350387</td>\n",
       "      <td>41541.037416</td>\n",
       "    </tr>\n",
       "    <tr>\n",
       "      <th>min</th>\n",
       "      <td>0.510000</td>\n",
       "      <td>0.310000</td>\n",
       "      <td>14.100000</td>\n",
       "      <td>0.020000</td>\n",
       "      <td>0.000000</td>\n",
       "    </tr>\n",
       "    <tr>\n",
       "      <th>25%</th>\n",
       "      <td>6.580000</td>\n",
       "      <td>6.550000</td>\n",
       "      <td>22.900000</td>\n",
       "      <td>6.690000</td>\n",
       "      <td>20.500000</td>\n",
       "    </tr>\n",
       "    <tr>\n",
       "      <th>50%</th>\n",
       "      <td>9.405000</td>\n",
       "      <td>9.380000</td>\n",
       "      <td>25.100000</td>\n",
       "      <td>11.470000</td>\n",
       "      <td>41.000000</td>\n",
       "    </tr>\n",
       "    <tr>\n",
       "      <th>75%</th>\n",
       "      <td>13.330000</td>\n",
       "      <td>13.310000</td>\n",
       "      <td>26.500000</td>\n",
       "      <td>15.590000</td>\n",
       "      <td>108.500000</td>\n",
       "    </tr>\n",
       "    <tr>\n",
       "      <th>max</th>\n",
       "      <td>44.280000</td>\n",
       "      <td>44.270000</td>\n",
       "      <td>33.200000</td>\n",
       "      <td>19.460000</td>\n",
       "      <td>491100.000000</td>\n",
       "    </tr>\n",
       "  </tbody>\n",
       "</table>\n",
       "</div>"
      ],
      "text/plain": [
       "       V relative (km/s)  V infinity (km/s)       H (mag)  \\\n",
       "count       28330.000000       28330.000000  28330.000000   \n",
       "mean           10.498532          10.471188     24.573685   \n",
       "std             5.482079           5.492262      2.735782   \n",
       "min             0.510000           0.310000     14.100000   \n",
       "25%             6.580000           6.550000     22.900000   \n",
       "50%             9.405000           9.380000     25.100000   \n",
       "75%            13.330000          13.310000     26.500000   \n",
       "max            44.280000          44.270000     33.200000   \n",
       "\n",
       "       Nominal Distance LD  diameter mean meters  \n",
       "count         28330.000000          28330.000000  \n",
       "mean             10.988586           5733.311015  \n",
       "std               5.350387          41541.037416  \n",
       "min               0.020000              0.000000  \n",
       "25%               6.690000             20.500000  \n",
       "50%              11.470000             41.000000  \n",
       "75%              15.590000            108.500000  \n",
       "max              19.460000         491100.000000  "
      ]
     },
     "execution_count": 23,
     "metadata": {},
     "output_type": "execute_result"
    }
   ],
   "source": [
    "#step 1: summarize the data with .describe()\n",
    "\n",
    "close_approach.describe()"
   ]
  },
  {
   "cell_type": "code",
   "execution_count": 24,
   "metadata": {},
   "outputs": [
    {
     "data": {
      "text/plain": [
       "year\n",
       "2170    23\n",
       "2200    27\n",
       "2193    29\n",
       "2188    30\n",
       "2181    31\n",
       "2198    32\n",
       "2197    32\n",
       "2160    32\n",
       "2171    33\n",
       "2157    34\n",
       "Name: Object, dtype: int64"
      ]
     },
     "execution_count": 24,
     "metadata": {},
     "output_type": "execute_result"
    }
   ],
   "source": [
    "# step 2:  ten least dangerous years\n",
    "\n",
    "close_approach.groupby('year')['Object'].count().sort_values().head(10)"
   ]
  },
  {
   "cell_type": "code",
   "execution_count": 25,
   "metadata": {},
   "outputs": [
    {
     "data": {
      "text/plain": [
       "year\n",
       "2020    1427\n",
       "2019    1151\n",
       "2018     902\n",
       "2017     886\n",
       "2016     761\n",
       "2021     612\n",
       "2015     577\n",
       "2014     549\n",
       "2012     401\n",
       "2013     389\n",
       "Name: Object, dtype: int64"
      ]
     },
     "execution_count": 25,
     "metadata": {},
     "output_type": "execute_result"
    }
   ],
   "source": [
    "# step 3:  ten most dangerous years\n",
    "\n",
    "close_approach.groupby('year')['Object'].count().sort_values(ascending = False).head(10)"
   ]
  },
  {
   "cell_type": "code",
   "execution_count": 26,
   "metadata": {},
   "outputs": [
    {
     "data": {
      "text/plain": [
       "94.11960132890366"
      ]
     },
     "execution_count": 26,
     "metadata": {},
     "output_type": "execute_result"
    }
   ],
   "source": [
    "#step 4: average per year\n",
    "\n",
    "close_approach.groupby('year')['Object'].count().mean()"
   ]
  },
  {
   "cell_type": "code",
   "execution_count": 27,
   "metadata": {},
   "outputs": [],
   "source": [
    "# step 5: caluclate count per year\n",
    "per_year = close_approach.groupby('year')['Object'].count()\n",
    "per_year_df = per_year.to_frame()"
   ]
  },
  {
   "cell_type": "code",
   "execution_count": 28,
   "metadata": {},
   "outputs": [
    {
     "data": {
      "text/plain": [
       "<Figure size 720x288 with 0 Axes>"
      ]
     },
     "metadata": {},
     "output_type": "display_data"
    },
    {
     "data": {
      "image/png": "[encoded data removed]",
      "text/plain": [
       "<Figure size 432x288 with 1 Axes>"
      ]
     },
     "metadata": {
      "needs_background": "light"
     },
     "output_type": "display_data"
    }
   ],
   "source": [
    "#step 6: create a graph of the counts per year\n",
    "plt.figure(figsize = (10,4))\n",
    "per_year_df.plot()\n",
    "plt.xlabel('year')\n",
    "plt.ylabel('Count of Close Approaches')\n",
    "plt.title('Number of Close Approaches Per Year', size = 18);"
   ]
  },
  {
   "cell_type": "code",
   "execution_count": 29,
   "metadata": {},
   "outputs": [],
   "source": [
    "# step 7: calculate the mean per month\n",
    "by_Month = close_approach.groupby(['month','year'])['Object'].count()\n",
    "by_Month_df = by_Month.to_frame()\n",
    "by_Month_df\n",
    "months_mean = by_Month_df.groupby('month')['Object'].mean()\n",
    "months_mean2 = months_mean[['Jan', 'Feb', 'Mar', 'Apr', 'May', 'Jun', 'Jul', 'Aug', 'Sep', 'Oct', 'Nov', 'Dec']]"
   ]
  },
  {
   "cell_type": "code",
   "execution_count": 30,
   "metadata": {},
   "outputs": [
    {
     "data": {
      "image/png": "[encoded data removed]",
      "text/plain": [
       "<Figure size 720x288 with 1 Axes>"
      ]
     },
     "metadata": {
      "needs_background": "light"
     },
     "output_type": "display_data"
    }
   ],
   "source": [
    "#step 8:  create a graph of the average close approaches per month\n",
    "plt.figure(figsize = (10,4))\n",
    "months_mean2.plot(kind ='bar')\n",
    "plt.xlabel('Month')\n",
    "plt.ylabel('Average Close Approaches')\n",
    "plt.title('Close Approaches by Month', size = 18);\n"
   ]
  },
  {
   "cell_type": "code",
   "execution_count": 31,
   "metadata": {},
   "outputs": [],
   "source": [
    "# step 9: top ten closest last year\n",
    "twenty = close_approach[close_approach['year'] == '2020'].sort_values('Nominal Distance LD').head(10)"
   ]
  },
  {
   "cell_type": "code",
   "execution_count": 32,
   "metadata": {},
   "outputs": [
    {
     "data": {
      "image/png": "[encoded data removed]",
      "text/plain": [
       "<Figure size 864x432 with 1 Axes>"
      ]
     },
     "metadata": {
      "needs_background": "light"
     },
     "output_type": "display_data"
    }
   ],
   "source": [
    "# step 10: graph the top ten closest approachs in 2020\n",
    "fig, ax = plt.subplots(figsize = (12,6))\n",
    "ax.scatter(x=twenty['Object'], y=twenty['Nominal Distance LD'], color='orange', alpha=1, s = twenty['diameter mean meters']*100)\n",
    "plt.xlabel(\"Object Name\")\n",
    "plt.ylabel(\"Distance (LD)\")\n",
    "plt.title(\"10 Closest Approaches in 2020\");"
   ]
  },
  {
   "cell_type": "code",
   "execution_count": 33,
   "metadata": {},
   "outputs": [],
   "source": [
    "#step 11: top ten closest this year\n",
    "twenty_one = close_approach[close_approach['year'] == '2021'].sort_values('Nominal Distance LD').head(10)"
   ]
  },
  {
   "cell_type": "code",
   "execution_count": 49,
   "metadata": {},
   "outputs": [
    {
     "data": {
      "image/png": "[encoded data removed]",
      "text/plain": [
       "<Figure size 864x432 with 1 Axes>"
      ]
     },
     "metadata": {
      "needs_background": "light"
     },
     "output_type": "display_data"
    }
   ],
   "source": [
    "#step 12: graph the top ten closests in 2021\n",
    "fig, ax = plt.subplots(figsize = (12,6))\n",
    "\n",
    "ax.scatter(x=twenty_one['Object'], y=twenty_one['Nominal Distance LD'], color='green', alpha=1, s = twenty_one['diameter mean meters']*100)\n",
    "plt.xlabel(\"Object Name\")\n",
    "plt.ylabel(\"Distance (LD)\")\n",
    "plt.title(\"10 Closest Approaches in 2021\");"
   ]
  },
  {
   "cell_type": "code",
   "execution_count": 35,
   "metadata": {},
   "outputs": [],
   "source": [
    "# step 13: top ten closest next year\n",
    "twenty_two = close_approach[close_approach['year'] == '2022'].sort_values('Nominal Distance LD').head(10)\n",
    "\n"
   ]
  },
  {
   "cell_type": "code",
   "execution_count": 36,
   "metadata": {},
   "outputs": [
    {
     "data": {
      "image/png": "[encoded data removed]",
      "text/plain": [
       "<Figure size 1008x432 with 1 Axes>"
      ]
     },
     "metadata": {
      "needs_background": "light"
     },
     "output_type": "display_data"
    }
   ],
   "source": [
    "#step 14: graph the top ten closests in 2022\n",
    "fig, ax = plt.subplots(figsize = (14,6))\n",
    "\n",
    "ax.scatter(x=twenty_two['Object'], y=twenty_two['Nominal Distance LD'], color='purple', alpha=1, s = twenty_two['diameter mean meters']*10)\n",
    "plt.xlabel(\"Object Name\")\n",
    "plt.ylabel(\"Distance (LD)\")\n",
    "plt.title(\"10 Closest Approaches in 2022\");"
   ]
  },
  {
   "cell_type": "code",
   "execution_count": 37,
   "metadata": {},
   "outputs": [],
   "source": [
    "#step 15: top ten closest in the future\n",
    "top_ten = close_approach[close_approach['year'] >= '2021'].sort_values('Nominal Distance LD').head(10)"
   ]
  },
  {
   "cell_type": "code",
   "execution_count": 38,
   "metadata": {},
   "outputs": [
    {
     "data": {
      "image/png": "[encoded data removed]",
      "text/plain": [
       "<Figure size 1440x432 with 1 Axes>"
      ]
     },
     "metadata": {
      "needs_background": "light"
     },
     "output_type": "display_data"
    }
   ],
   "source": [
    "#step 16:  graph the top ten biggest\n",
    "fig, ax = plt.subplots(figsize = (20,6))\n",
    "\n",
    "ax.scatter(x=top_ten['Object'], y=top_ten['Nominal Distance LD'], color='red', alpha=1, s = top_ten['diameter mean meters']*100)\n",
    "plt.xlabel(\"Object Name\")\n",
    "plt.ylabel(\"Distance (LD)\")\n",
    "plt.title(\"10 Closest Approaches in the Future\", size =18);"
   ]
  },
  {
   "cell_type": "code",
   "execution_count": 39,
   "metadata": {},
   "outputs": [],
   "source": [
    "#step 17: api for data about the interesting one above\n",
    "\n",
    "more_data_url = 'https://ssd-api.jpl.nasa.gov/cad.api?des=99942&dist-max=.02&date-max=2100-01-01&diameter=True&fullname=True'"
   ]
  },
  {
   "cell_type": "code",
   "execution_count": 40,
   "metadata": {},
   "outputs": [],
   "source": [
    "#step 18 make initial request\n",
    "req = requests.get(more_data_url)"
   ]
  },
  {
   "cell_type": "code",
   "execution_count": 41,
   "metadata": {},
   "outputs": [
    {
     "data": {
      "text/plain": [
       "200"
      ]
     },
     "execution_count": 41,
     "metadata": {},
     "output_type": "execute_result"
    }
   ],
   "source": [
    "#step 19: confirm connection\n",
    "req.status_code"
   ]
  },
  {
   "cell_type": "code",
   "execution_count": 42,
   "metadata": {},
   "outputs": [
    {
     "data": {
      "text/plain": [
       "'{\"signature\":{\"source\":\"NASA/JPL SBDB Close Approach Data API\",\"version\":\"1.3\"},\"count\":\"1\",\"fields\":[\"des\",\"orbit_id\",\"jd\",\"cd\",\"dist\",\"dist_min\",\"dist_max\",\"v_rel\",\"v_inf\",\"t_sigma_f\",\"h\",\"diameter\",\"diameter_sigma\",\"fullname\"],\"data\":[[\"99942\",\"214\",\"2462240.407091922\",\"2029-Apr-13 21:46\",\"0.000254092564063349\",\"0.000254075059480256\",\"0.000254110068760328\",\"7.42252962468042\",\"5.84135572249032\",\"< 00:01\",\"19.7\",\"0.34\",\"0.04\",\" 99942 Apophis (2004 MN4)\"]]}\\n'"
      ]
     },
     "execution_count": 42,
     "metadata": {},
     "output_type": "execute_result"
    }
   ],
   "source": [
    "#step 20:  confirm text\n",
    "req.text"
   ]
  },
  {
   "cell_type": "code",
   "execution_count": 43,
   "metadata": {},
   "outputs": [
    {
     "data": {
      "text/plain": [
       "dict_keys(['signature', 'count', 'fields', 'data'])"
      ]
     },
     "execution_count": 43,
     "metadata": {},
     "output_type": "execute_result"
    }
   ],
   "source": [
    "#step 21:  look up keys\n",
    "\n",
    "data = req.json()\n",
    "data.keys()"
   ]
  },
  {
   "cell_type": "code",
   "execution_count": 44,
   "metadata": {},
   "outputs": [],
   "source": [
    "#step 22:  create list from fields key and values\n",
    "\n",
    "fields = data['fields']\n"
   ]
  },
  {
   "cell_type": "code",
   "execution_count": 45,
   "metadata": {},
   "outputs": [
    {
     "data": {
      "text/plain": [
       "[['99942',\n",
       "  '214',\n",
       "  '2462240.407091922',\n",
       "  '2029-Apr-13 21:46',\n",
       "  '0.000254092564063349',\n",
       "  '0.000254075059480256',\n",
       "  '0.000254110068760328',\n",
       "  '7.42252962468042',\n",
       "  '5.84135572249032',\n",
       "  '< 00:01',\n",
       "  '19.7',\n",
       "  '0.34',\n",
       "  '0.04',\n",
       "  ' 99942 Apophis (2004 MN4)']]"
      ]
     },
     "execution_count": 45,
     "metadata": {},
     "output_type": "execute_result"
    }
   ],
   "source": [
    "#step 23:  create list from data key and values\n",
    "\n",
    "data_1 = data['data']\n",
    "data_1"
   ]
  },
  {
   "cell_type": "code",
   "execution_count": 46,
   "metadata": {},
   "outputs": [
    {
     "data": {
      "text/plain": [
       "['99942',\n",
       " '214',\n",
       " '2462240.407091922',\n",
       " '2029-Apr-13 21:46',\n",
       " '0.000254092564063349',\n",
       " '0.000254075059480256',\n",
       " '0.000254110068760328',\n",
       " '7.42252962468042',\n",
       " '5.84135572249032',\n",
       " '< 00:01',\n",
       " '19.7',\n",
       " '0.34',\n",
       " '0.04',\n",
       " ' 99942 Apophis (2004 MN4)']"
      ]
     },
     "execution_count": 46,
     "metadata": {},
     "output_type": "execute_result"
    }
   ],
   "source": [
    "#step 24: un-nest the data list\n",
    "\n",
    "data_2 = data_1[0]\n",
    "data_2"
   ]
  },
  {
   "cell_type": "code",
   "execution_count": 47,
   "metadata": {},
   "outputs": [
    {
     "data": {
      "text/plain": [
       "{'des': '99942',\n",
       " 'orbit_id': '214',\n",
       " 'jd': '2462240.407091922',\n",
       " 'cd': '2029-Apr-13 21:46',\n",
       " 'dist': '0.000254092564063349',\n",
       " 'dist_min': '0.000254075059480256',\n",
       " 'dist_max': '0.000254110068760328',\n",
       " 'v_rel': '7.42252962468042',\n",
       " 'v_inf': '5.84135572249032',\n",
       " 't_sigma_f': '< 00:01',\n",
       " 'h': '19.7',\n",
       " 'diameter': '0.34',\n",
       " 'diameter_sigma': '0.04',\n",
       " 'fullname': ' 99942 Apophis (2004 MN4)'}"
      ]
     },
     "execution_count": 47,
     "metadata": {},
     "output_type": "execute_result"
    }
   ],
   "source": [
    "#step 25: zip the field and data lists together as dictionary\n",
    "\n",
    "data_di = dict(zip(fields, data_2))\n",
    "data_di"
   ]
  },
  {
   "cell_type": "code",
   "execution_count": 48,
   "metadata": {},
   "outputs": [
    {
     "data": {
      "text/html": [
       "<div>\n",
       "<style scoped>\n",
       "    .dataframe tbody tr th:only-of-type {\n",
       "        vertical-align: middle;\n",
       "    }\n",
       "\n",
       "    .dataframe tbody tr th {\n",
       "        vertical-align: top;\n",
       "    }\n",
       "\n",
       "    .dataframe thead th {\n",
       "        text-align: right;\n",
       "    }\n",
       "</style>\n",
       "<table border=\"1\" class=\"dataframe\">\n",
       "  <thead>\n",
       "    <tr style=\"text-align: right;\">\n",
       "      <th></th>\n",
       "      <th>des</th>\n",
       "      <th>cd</th>\n",
       "      <th>dist</th>\n",
       "      <th>h</th>\n",
       "      <th>diameter</th>\n",
       "      <th>fullname</th>\n",
       "    </tr>\n",
       "  </thead>\n",
       "  <tbody>\n",
       "    <tr>\n",
       "      <th>0</th>\n",
       "      <td>99942</td>\n",
       "      <td>2029-Apr-13 21:46</td>\n",
       "      <td>0.000254092564063349</td>\n",
       "      <td>19.7</td>\n",
       "      <td>0.34</td>\n",
       "      <td>99942 Apophis (2004 MN4)</td>\n",
       "    </tr>\n",
       "  </tbody>\n",
       "</table>\n",
       "</div>"
      ],
      "text/plain": [
       "     des                 cd                  dist     h diameter  \\\n",
       "0  99942  2029-Apr-13 21:46  0.000254092564063349  19.7     0.34   \n",
       "\n",
       "                    fullname  \n",
       "0   99942 Apophis (2004 MN4)  "
      ]
     },
     "execution_count": 48,
     "metadata": {},
     "output_type": "execute_result"
    }
   ],
   "source": [
    "#step 26:  create dataframe from dictionary, drop excess columns and display\n",
    "\n",
    "data_df = pd.DataFrame.from_dict([data_di])\n",
    "data_df\n",
    "data_df.drop(['orbit_id', 'jd', 'dist_min', 'dist_max', 'v_rel', 'v_inf', 't_sigma_f', 'diameter_sigma'], axis=1, inplace= True)\n",
    "data_df"
   ]
  }
 ],
 "metadata": {
  "kernelspec": {
   "display_name": "Python 3",
   "language": "python",
   "name": "python3"
  },
  "language_info": {
   "codemirror_mode": {
    "name": "ipython",
    "version": 3
   },
   "file_extension": ".py",
   "mimetype": "text/x-python",
   "name": "python",
   "nbconvert_exporter": "python",
   "pygments_lexer": "ipython3",
   "version": "3.8.5"
  }
 },
 "nbformat": 4,
 "nbformat_minor": 4
}
